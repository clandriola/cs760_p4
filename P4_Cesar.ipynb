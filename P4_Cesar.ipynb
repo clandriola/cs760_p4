{
 "cells": [
  {
   "cell_type": "code",
   "execution_count": 144,
   "id": "4e2ffec7-520d-4317-bf9f-02790cb8d5be",
   "metadata": {},
   "outputs": [],
   "source": [
    "import numpy as np\n",
    "import pandas as pd"
   ]
  },
  {
   "cell_type": "markdown",
   "id": "1fc6d7f2-9ec3-443e-a1f5-df9c2e23f74b",
   "metadata": {},
   "source": [
    "# 3"
   ]
  },
  {
   "cell_type": "markdown",
   "id": "becf6342-8494-4076-954d-618ba89b2f1c",
   "metadata": {},
   "source": [
    "### 3.0"
   ]
  },
  {
   "cell_type": "code",
   "execution_count": 145,
   "id": "469289df-e6c9-48a2-b316-7abf7335f99a",
   "metadata": {},
   "outputs": [
    {
     "name": "stdout",
     "output_type": "stream",
     "text": [
      "['a', 'b', 'c', 'd', 'e', 'f', 'g', 'h', 'i', 'j', 'k', 'l', 'm', 'n', 'o', 'p', 'q', 'r', 's', 't', 'u', 'v', 'w', 'x', 'y', 'z', ' ']\n"
     ]
    }
   ],
   "source": [
    "# Create a list of characters from 'a' to 'z' and space\n",
    "char_list = [chr(x) for x in range(ord('a'), ord('z')+1)] + [' ']\n",
    "print(char_list)\n",
    "smoothing = 0.5"
   ]
  },
  {
   "cell_type": "markdown",
   "id": "7a279963-071b-4a46-8484-04c1fd468087",
   "metadata": {},
   "source": [
    "### 3.1 - Prior"
   ]
  },
  {
   "cell_type": "code",
   "execution_count": 146,
   "id": "3af53de0-2972-45bd-9386-14ffc58a2e79",
   "metadata": {},
   "outputs": [],
   "source": [
    "prior = {}\n",
    "for language in [\"e\",\"j\",\"s\"]:\n",
    "    prior[language] = np.log((10+1/2)/((10+1/2)*3))"
   ]
  },
  {
   "cell_type": "code",
   "execution_count": 147,
   "id": "22166b1e-337c-454c-adf8-201d38b00f73",
   "metadata": {},
   "outputs": [
    {
     "name": "stdout",
     "output_type": "stream",
     "text": [
      "0.3333333333333333\n",
      "0.3333333333333333\n",
      "0.3333333333333333\n"
     ]
    }
   ],
   "source": [
    "# Result\n",
    "for l in prior:\n",
    "    print(np.exp(prior[l]))\n",
    "    "
   ]
  },
  {
   "cell_type": "markdown",
   "id": "64beeab6-1f4c-43cb-920e-23720cfcbbc9",
   "metadata": {},
   "source": [
    "### 3.2 and 3.3 - Conditional probabilities"
   ]
  },
  {
   "cell_type": "code",
   "execution_count": 148,
   "id": "5b32f76b-b104-4e46-8395-4a6fe8fe18f0",
   "metadata": {},
   "outputs": [],
   "source": [
    "dict_count = {}\n",
    "for language in [\"e\",\"j\",\"s\"]:\n",
    "    dict_count[language] = {}\n",
    "    for character in char_list:\n",
    "        dict_count[language][character] = smoothing\n",
    "    for n in range(10):\n",
    "        file = 'languageID/' + language + str(n) + '.txt'\n",
    "        with open(file, 'r') as file:\n",
    "            content = file.read()\n",
    "            for c in content:\n",
    "                if c in char_list:\n",
    "                    dict_count[language][c] +=1\n",
    "                else:\n",
    "                    pass      "
   ]
  },
  {
   "cell_type": "code",
   "execution_count": 149,
   "id": "144921d3-045f-4e8e-b879-323133704f7a",
   "metadata": {},
   "outputs": [
    {
     "name": "stdout",
     "output_type": "stream",
     "text": [
      "e\n",
      "[0.0602, 0.0111, 0.0215, 0.022, 0.1054, 0.0189, 0.0175, 0.0472, 0.0554, 0.0014, 0.0037, 0.029, 0.0205, 0.0579, 0.0645, 0.0168, 0.0006, 0.0538, 0.0662, 0.0801, 0.0267, 0.0093, 0.0155, 0.0012, 0.0138, 0.0006, 0.1792]\n",
      "1.0\n",
      "j\n",
      "[0.1318, 0.0109, 0.0055, 0.0172, 0.0602, 0.0039, 0.014, 0.0318, 0.097, 0.0023, 0.0574, 0.0014, 0.0398, 0.0567, 0.0912, 0.0009, 0.0001, 0.0428, 0.0422, 0.057, 0.0706, 0.0002, 0.0197, 0.0, 0.0142, 0.0077, 0.1234]\n",
      "0.9999\n",
      "s\n",
      "[0.1046, 0.0082, 0.0375, 0.0397, 0.1138, 0.0086, 0.0072, 0.0045, 0.0499, 0.0066, 0.0003, 0.0529, 0.0258, 0.0542, 0.0725, 0.0243, 0.0077, 0.0593, 0.0658, 0.0356, 0.0337, 0.0059, 0.0001, 0.0025, 0.0079, 0.0027, 0.1683]\n",
      "1.0001\n"
     ]
    }
   ],
   "source": [
    "cond_probability = {}\n",
    "for language in dict_count:\n",
    "    cond_probability[language] = {}\n",
    "    total = sum(dict_count[language].values())\n",
    "    vector = []\n",
    "    for c in dict_count[language]:\n",
    "        c_count = dict_count[language][c]\n",
    "        vector.append(round((c_count/total),4))\n",
    "        cond_probability[language][c] = np.log(c_count/total)\n",
    "    print(language)\n",
    "    print(vector)\n",
    "    print(sum(vector))\n",
    "#cond_probability"
   ]
  },
  {
   "cell_type": "code",
   "execution_count": 150,
   "id": "c78d8f53-fa75-4da2-abf6-986725df4e65",
   "metadata": {},
   "outputs": [
    {
     "data": {
      "text/plain": [
       "{'e': {'a': -2.8106061285981796,\n",
       "  'b': -4.497664277973426,\n",
       "  'c': -3.8392375661172182,\n",
       "  'd': -3.8179601676699337,\n",
       "  'e': -2.25028454131573,\n",
       "  'f': -3.966861491611048,\n",
       "  'g': -4.046758776467488,\n",
       "  'h': -3.05301703039592,\n",
       "  'i': -2.892985446502579,\n",
       "  'j': -6.556547092632226,\n",
       "  'k': -5.590359389613447,\n",
       "  'l': -3.5412402159536045,\n",
       "  'm': -3.8864161263923087,\n",
       "  'n': -2.848663323404553,\n",
       "  'o': -2.741649867702676,\n",
       "  'p': -4.089236204734605,\n",
       "  'q': -7.484533864269571,\n",
       "  'r': -2.9220255997237423,\n",
       "  's': -2.7153458726599693,\n",
       "  't': -2.524160404954204,\n",
       "  'u': -3.624423540055839,\n",
       "  'v': -4.679392538992042,\n",
       "  'w': -4.167144439879508,\n",
       "  'x': -6.7623991468363736,\n",
       "  'y': -4.27987628840365,\n",
       "  'z': -7.373308229159347,\n",
       "  ' ': -1.7189740299171272},\n",
       " 'j': {'a': -2.0267306146406696,\n",
       "  'b': -4.522033199719792,\n",
       "  'c': -5.2055803065507185,\n",
       "  'd': -4.061316937856336,\n",
       "  'e': -2.810003875371097,\n",
       "  'f': -5.552295910586692,\n",
       "  'g': -4.267864684592458,\n",
       "  'h': -3.449481017721548,\n",
       "  'i': -2.332699624592227,\n",
       "  'j': -6.05713349250806,\n",
       "  'k': -2.8575469938617584,\n",
       "  'l': -6.548254045194719,\n",
       "  'm': -3.2239201484518443,\n",
       "  'n': -2.8697945443844355,\n",
       "  'o': -2.395103826762298,\n",
       "  'p': -7.042950287030826,\n",
       "  'q': -9.163213823230917,\n",
       "  'r': -3.151129988920199,\n",
       "  's': -3.165932890801495,\n",
       "  't': -2.8648775092780125,\n",
       "  'u': -2.6504783944954053,\n",
       "  'v': -8.315915962843713,\n",
       "  'w': -3.9250003807525857,\n",
       "  'x': -10.261826111899026,\n",
       "  'y': -4.257939044792487,\n",
       "  'z': -4.863663410381274,\n",
       "  ' ': -2.091923464539881},\n",
       " 's': {'a': -2.2579898923463233,\n",
       "  'b': -4.799621376071713,\n",
       "  'c': -3.2827259414844345,\n",
       "  'd': -3.2252480315327743,\n",
       "  'e': -2.173217331441963,\n",
       "  'f': -4.755658252650596,\n",
       "  'g': -4.935831580906261,\n",
       "  'h': -5.396437447693225,\n",
       "  'i': -2.998542174894855,\n",
       "  'j': -5.016232006344299,\n",
       "  'k': -8.189645457135743,\n",
       "  'l': -2.938536173574486,\n",
       "  'm': -3.6570459639824864,\n",
       "  'n': -2.9155069462848644,\n",
       "  'o': -2.624273985931892,\n",
       "  'p': -3.7186417860545586,\n",
       "  'q': -4.869417138007254,\n",
       "  'r': -2.825228288883182,\n",
       "  's': -2.721585316000611,\n",
       "  't': -3.335014411516068,\n",
       "  'u': -3.390188546295423,\n",
       "  'v': -5.1345966064253314,\n",
       "  'w': -9.288257745803852,\n",
       "  'x': -5.992420879799523,\n",
       "  'y': -4.8456064893135355,\n",
       "  'z': -5.920961915817378,\n",
       "  ' ': -1.7822155672857296}}"
      ]
     },
     "execution_count": 150,
     "metadata": {},
     "output_type": "execute_result"
    }
   ],
   "source": [
    "cond_probability"
   ]
  },
  {
   "cell_type": "markdown",
   "id": "2b8bbc75-4604-44a5-beba-1599271a89bf",
   "metadata": {},
   "source": [
    "### 3.4 - Test data"
   ]
  },
  {
   "cell_type": "code",
   "execution_count": 151,
   "id": "6d5988f1-43d9-44de-a37a-e7505e1b8a5e",
   "metadata": {},
   "outputs": [
    {
     "name": "stdout",
     "output_type": "stream",
     "text": [
      "[164, 32, 53, 57, 311, 55, 51, 140, 140, 3, 6, 85, 64, 139, 182, 53, 3, 141, 186, 225, 65, 31, 47, 4, 38, 2, 498]\n"
     ]
    }
   ],
   "source": [
    "def test_bag(file):\n",
    "    doc_dict = {}\n",
    "    char_list = [chr(x) for x in range(ord('a'), ord('z')+1)] + [' ']\n",
    "    for character in char_list:\n",
    "        doc_dict[character] = 0\n",
    "    with open(file, 'r') as file:\n",
    "        content = file.read()\n",
    "        for c in content:\n",
    "            if c in char_list:\n",
    "                doc_dict[c] +=1\n",
    "            else:\n",
    "                pass   \n",
    "    return doc_dict\n",
    "\n",
    "file = 'languageID/e10.txt'\n",
    "\n",
    "# Result\n",
    "vector = []\n",
    "doc_dict = test_bag(file)\n",
    "for c in doc_dict:\n",
    "    vector.append(doc_dict[c])\n",
    "    \n",
    "print(vector)"
   ]
  },
  {
   "cell_type": "code",
   "execution_count": 152,
   "id": "c9f61ca4-f145-4a28-a851-95a96c705dd9",
   "metadata": {},
   "outputs": [
    {
     "data": {
      "text/plain": [
       "{'a': 164,\n",
       " 'b': 32,\n",
       " 'c': 53,\n",
       " 'd': 57,\n",
       " 'e': 311,\n",
       " 'f': 55,\n",
       " 'g': 51,\n",
       " 'h': 140,\n",
       " 'i': 140,\n",
       " 'j': 3,\n",
       " 'k': 6,\n",
       " 'l': 85,\n",
       " 'm': 64,\n",
       " 'n': 139,\n",
       " 'o': 182,\n",
       " 'p': 53,\n",
       " 'q': 3,\n",
       " 'r': 141,\n",
       " 's': 186,\n",
       " 't': 225,\n",
       " 'u': 65,\n",
       " 'v': 31,\n",
       " 'w': 47,\n",
       " 'x': 4,\n",
       " 'y': 38,\n",
       " 'z': 2,\n",
       " ' ': 498}"
      ]
     },
     "execution_count": 152,
     "metadata": {},
     "output_type": "execute_result"
    }
   ],
   "source": [
    "doc_dict"
   ]
  },
  {
   "cell_type": "markdown",
   "id": "9ad7bbd6-7a43-4c90-b9ff-883a8ca35b10",
   "metadata": {},
   "source": [
    "### 3.5 - Likelihood"
   ]
  },
  {
   "cell_type": "code",
   "execution_count": 153,
   "id": "d3fbf7a6-c233-4c00-864c-4107e9b424f6",
   "metadata": {},
   "outputs": [
    {
     "name": "stdout",
     "output_type": "stream",
     "text": [
      "e 0.0\n",
      "j 0.0\n",
      "s 0.0\n"
     ]
    }
   ],
   "source": [
    "def likelihood(doc_dict,cond_probability):        \n",
    "    dict_likelihood = {}\n",
    "    for language in [\"e\",\"j\",\"s\"]:\n",
    "        likelihood_total = 0\n",
    "        for c in cond_probability[language]:\n",
    "            count = doc_dict[c]\n",
    "            prob = cond_probability[language][c]\n",
    "            likelihood_total += count*prob\n",
    "        dict_likelihood[language] = likelihood_total\n",
    "    return dict_likelihood\n",
    "\n",
    "# Results\n",
    "dict_likelihood =  likelihood(doc_dict,cond_probability)\n",
    "for l in dict_likelihood:\n",
    "    print(l, np.exp(dict_likelihood[l]))\n",
    "        "
   ]
  },
  {
   "cell_type": "code",
   "execution_count": 154,
   "id": "ed19fc70-77b7-4eee-a9b3-4b407f4e696e",
   "metadata": {},
   "outputs": [
    {
     "data": {
      "text/plain": [
       "{'e': -7841.865447060635, 'j': -8771.433079075032, 's': -8467.282044010557}"
      ]
     },
     "execution_count": 154,
     "metadata": {},
     "output_type": "execute_result"
    }
   ],
   "source": [
    "dict_likelihood"
   ]
  },
  {
   "cell_type": "markdown",
   "id": "b81f1a60-cc89-4e8d-8d8e-22a9ad6676c0",
   "metadata": {},
   "source": [
    "### 3.6 - Posterior"
   ]
  },
  {
   "cell_type": "code",
   "execution_count": 155,
   "id": "046e130c-9535-45f1-b542-43d82f1b1edb",
   "metadata": {},
   "outputs": [
    {
     "name": "stdout",
     "output_type": "stream",
     "text": [
      "e 0.0\n",
      "j 0.0\n",
      "s 0.0\n"
     ]
    }
   ],
   "source": [
    "def bayes(prior,dict_likelihood):\n",
    "    dict_bayes = {}\n",
    "    for language in [\"e\",\"j\",\"s\"]:\n",
    "        dict_bayes[language] = dict_likelihood[language] + prior[language]\n",
    "    return dict_bayes\n",
    "\n",
    "dict_bayes = bayes(prior,dict_likelihood)\n",
    "\n",
    "# Results\n",
    "for l in dict_bayes:\n",
    "    print(l, np.exp(dict_bayes[l]))"
   ]
  },
  {
   "cell_type": "code",
   "execution_count": 156,
   "id": "d4c4a513-e570-4dac-81a9-fb885135fb86",
   "metadata": {},
   "outputs": [
    {
     "data": {
      "text/plain": [
       "{'e': -7842.964059349303, 'j': -8772.5316913637, 's': -8468.380656299225}"
      ]
     },
     "execution_count": 156,
     "metadata": {},
     "output_type": "execute_result"
    }
   ],
   "source": [
    "dict_bayes"
   ]
  },
  {
   "cell_type": "markdown",
   "id": "5f7fd74a-796e-4848-b68a-92118672a500",
   "metadata": {},
   "source": [
    "### 3.7 - Performance"
   ]
  },
  {
   "cell_type": "code",
   "execution_count": 157,
   "id": "bda1da9d-778d-49e7-b72d-20ba3a41238e",
   "metadata": {},
   "outputs": [],
   "source": [
    "def prediction(dict_bayes):\n",
    "    pred = max(dict_bayes, key=lambda k: dict_bayes[k])\n",
    "    return pred "
   ]
  },
  {
   "cell_type": "code",
   "execution_count": 158,
   "id": "07389552-6209-419c-b33e-f28dafba5cd1",
   "metadata": {},
   "outputs": [
    {
     "data": {
      "text/plain": [
       "{'languageID/e10.txt': ('e', 'e'),\n",
       " 'languageID/e11.txt': ('e', 'e'),\n",
       " 'languageID/e12.txt': ('e', 'e'),\n",
       " 'languageID/e13.txt': ('e', 'e'),\n",
       " 'languageID/e14.txt': ('e', 'e'),\n",
       " 'languageID/e15.txt': ('e', 'e'),\n",
       " 'languageID/e16.txt': ('e', 'e'),\n",
       " 'languageID/e17.txt': ('e', 'e'),\n",
       " 'languageID/e18.txt': ('e', 'e'),\n",
       " 'languageID/e19.txt': ('e', 'e'),\n",
       " 'languageID/j10.txt': ('j', 'j'),\n",
       " 'languageID/j11.txt': ('j', 'j'),\n",
       " 'languageID/j12.txt': ('j', 'j'),\n",
       " 'languageID/j13.txt': ('j', 'j'),\n",
       " 'languageID/j14.txt': ('j', 'j'),\n",
       " 'languageID/j15.txt': ('j', 'j'),\n",
       " 'languageID/j16.txt': ('j', 'j'),\n",
       " 'languageID/j17.txt': ('j', 'j'),\n",
       " 'languageID/j18.txt': ('j', 'j'),\n",
       " 'languageID/j19.txt': ('j', 'j'),\n",
       " 'languageID/s10.txt': ('s', 's'),\n",
       " 'languageID/s11.txt': ('s', 's'),\n",
       " 'languageID/s12.txt': ('s', 's'),\n",
       " 'languageID/s13.txt': ('s', 's'),\n",
       " 'languageID/s14.txt': ('s', 's'),\n",
       " 'languageID/s15.txt': ('s', 's'),\n",
       " 'languageID/s16.txt': ('s', 's'),\n",
       " 'languageID/s17.txt': ('s', 's'),\n",
       " 'languageID/s18.txt': ('s', 's'),\n",
       " 'languageID/s19.txt': ('s', 's')}"
      ]
     },
     "execution_count": 158,
     "metadata": {},
     "output_type": "execute_result"
    }
   ],
   "source": [
    "# Run\n",
    "dict_results = {}\n",
    "for language in [\"e\",\"j\",\"s\"]:\n",
    "    for n in range(10,20,1):\n",
    "        file = 'languageID/' + language + str(n) + '.txt'\n",
    "        doc_dict = test_bag(file)\n",
    "        #print(doc_dict)\n",
    "        dict_likelihood =  likelihood(doc_dict,cond_probability)\n",
    "        dict_bayes = bayes(prior,dict_likelihood)\n",
    "        #print(dict_bayes[\"e\"]/dict_bayes[\"s\"])\n",
    "        pred = prediction(dict_bayes)\n",
    "        truth = language\n",
    "        dict_results[file] = (pred,truth)\n",
    "\n",
    "dict_results"
   ]
  },
  {
   "cell_type": "code",
   "execution_count": 159,
   "id": "f955d923-db6b-4ac5-8bc5-5b2050659839",
   "metadata": {},
   "outputs": [
    {
     "name": "stdout",
     "output_type": "stream",
     "text": [
      "      e     j     s\n",
      "e  10.0   0.0   0.0\n",
      "j   0.0  10.0   0.0\n",
      "s   0.0   0.0  10.0\n"
     ]
    }
   ],
   "source": [
    "# Create Dataframe\n",
    "final_df = pd.DataFrame()\n",
    "for l1 in [\"e\",\"j\",\"s\"]: #[\"English True\",\"Japanese True\",\"Spanish True\"]:\n",
    "    for l2 in [\"e\",\"j\",\"s\"]: #[\"English Predicted\",\"Japanese Predicted\",\"Spanish Predicted\"]:\n",
    "        final_df.loc[l1,l2] = 0\n",
    "\n",
    "for i in dict_results:\n",
    "    l1 = dict_results[i][0] # predicted\n",
    "    l2 = dict_results[i][1] # true\n",
    "    final_df.loc[l1,l2] += 1\n",
    "\n",
    "print(final_df)\n",
    "    "
   ]
  },
  {
   "cell_type": "code",
   "execution_count": null,
   "id": "76f73969-dc5a-4c87-a90a-dfb53a9c44a0",
   "metadata": {},
   "outputs": [],
   "source": []
  },
  {
   "cell_type": "code",
   "execution_count": null,
   "id": "0772c30a-4360-4eac-a659-8451f83a6396",
   "metadata": {},
   "outputs": [],
   "source": []
  },
  {
   "cell_type": "markdown",
   "id": "b1dff849-6898-4b70-9944-e16137d57f0d",
   "metadata": {},
   "source": [
    "# 4.2"
   ]
  },
  {
   "cell_type": "code",
   "execution_count": 173,
   "id": "0e44e977-069e-413e-a571-af7221fea7e2",
   "metadata": {},
   "outputs": [],
   "source": [
    "import numpy as np\n",
    "import pandas as pd\n",
    "from keras.utils import to_categorical\n",
    "import matplotlib.pyplot as plt"
   ]
  },
  {
   "cell_type": "markdown",
   "id": "2dc6c441-2009-4bd8-b61b-de54e368715e",
   "metadata": {},
   "source": [
    "### Functions"
   ]
  },
  {
   "cell_type": "code",
   "execution_count": 174,
   "id": "7779c8cf-c4e0-4c7f-8b3a-24ba4a5c6e7a",
   "metadata": {},
   "outputs": [],
   "source": [
    "def sigmoid(x):\n",
    "    return 1 / (1 + np.exp(-x))\n",
    "\n",
    "def softmax(x):\n",
    "    exp_x = np.exp(x - np.max(x, axis=0, keepdims=True))\n",
    "    return exp_x / exp_x.sum(axis=0, keepdims=True)\n",
    "\n",
    "# Cross-entropy loss function\n",
    "def cross_entropy_loss(y_true, y_pred):\n",
    "    epsilon = 1e-15\n",
    "    y_pred = np.clip(y_pred, epsilon, 1 - epsilon)\n",
    "    return -np.sum(y_true * np.log(y_pred)) / len(y_true)\n",
    "\n",
    "# Compute derivatives for the sigmoid activation function\n",
    "def sigmoid_derivative(x):\n",
    "    return sigmoid(x) * (1 - sigmoid(x))\n",
    "\n",
    "def accuracy_calculation(W1,W2,X_test,Y_test):\n",
    "    z1 = np.dot(W1, X_test.T)\n",
    "    a1 = sigmoid(z1)\n",
    "    z2 = np.dot(W2, a1)\n",
    "    y_hat = softmax(z2).astype(np.int32)\n",
    "    pred = y_hat.T\n",
    "    \n",
    "    TP = 0\n",
    "    TN = 0\n",
    "    FP = 0\n",
    "    FN = 0\n",
    "    for i in range(len(pred)):\n",
    "        index = np.where(pred[i] == 1)\n",
    "        index2 = np.where(Y_test[i] == 1)\n",
    "        if index == index2:\n",
    "            TP +=1\n",
    "    accuracy = (TP) / len(pred)   \n",
    "    return accuracy        "
   ]
  },
  {
   "cell_type": "code",
   "execution_count": 175,
   "id": "22e51181-4e6d-4096-8446-5c3016e731d1",
   "metadata": {},
   "outputs": [],
   "source": [
    "# Model Function\n",
    "# Disclaimer: I am simplifiin the derivative of the loss and the softmax (line 41)\n",
    "def model_nn(lr, k, d1, batch_size, X_train, Y_train, epochs, X_test,Y_test, random):\n",
    "    learning_rate = lr\n",
    "    np.random.seed(10)\n",
    "    d = X_train.shape[1] # dimentions of the data # flatening images\n",
    "    output_size = k\n",
    "    # different weights initialization\n",
    "    if random == 0:\n",
    "        W1 = np.random.rand(d1, d) # Initialize W1 randomly (-1,1)\n",
    "        W2 = np.random.rand(k, d1)\n",
    "    elif random == 1:    \n",
    "        W1 = 2 * np.random.rand(d1, d) -1 # Initialize W1 randomly (-1,1)\n",
    "        W2 = 2 * np.random.rand(k, d1) -1\n",
    "    elif random == 2:\n",
    "        W1 = np.zeros((d1, d))  # Initialize W1 zeros\n",
    "        W2 = np.zeros((k, d1))\n",
    "    num_batches = len(X_train) // batch_size\n",
    "    loss_list = []\n",
    "    accuracy_list = []\n",
    "    error_list = []\n",
    "    for epoch in range(epochs):\n",
    "        total_loss = 0\n",
    "        for batch in range(num_batches):\n",
    "            start_idx = batch * batch_size\n",
    "            end_idx = (batch + 1) * batch_size\n",
    "            # Batch data\n",
    "            X_batch = X_train[start_idx:end_idx]\n",
    "            Y_batch = Y_train[start_idx:end_idx]\n",
    "            \n",
    "            # Forward (for the entire batch)\n",
    "            z1 = np.dot(W1, X_batch.T)\n",
    "            a1 = sigmoid(z1)\n",
    "            z2 = np.dot(W2, a1)\n",
    "            y_hat = softmax(z2)\n",
    "    \n",
    "            # Loss Computation\n",
    "            loss = cross_entropy_loss(Y_batch, y_hat.T)\n",
    "            total_loss += loss\n",
    "            \n",
    "            # Backward pass (compute derivatives)\n",
    "            delta2 = y_hat.T - Y_batch\n",
    "            delta1 = np.dot(W2.T, delta2.T) * sigmoid_derivative(z1)\n",
    "            \n",
    "            grad_W2 = np.dot(delta2.T, a1.T)\n",
    "            grad_W1 = np.dot(delta1, X_batch)\n",
    "            \n",
    "            # Update weights and biases\n",
    "            W2 -= learning_rate * grad_W2\n",
    "            W1 -= learning_rate * grad_W1\n",
    "\n",
    "        accuracy = accuracy_calculation(W1,W2,X_test,Y_test)\n",
    "        accuracy_list.append(accuracy)\n",
    "        error_list.append(1-accuracy)\n",
    "        \n",
    "        # Compute average loss for this epoch\n",
    "        average_loss = total_loss / num_batches\n",
    "        loss_list.append(average_loss)\n",
    "        \n",
    "        # Print the loss every 1000 epochs\n",
    "        if epoch % 10 == 0:\n",
    "            print(f'Epoch: {epoch}, Loss: {average_loss}, Error: {1-accuracy}, Accuracy: {accuracy}')  \n",
    "\n",
    "    plt.figure(figsize=(10, 6))  # Set the size of the plot (optional)\n",
    "    plt.plot(loss_list, marker='o', linestyle='-', color='b')\n",
    "    plt.xlabel('Index')\n",
    "    plt.ylabel('Loss')\n",
    "    plt.title('Learning Curve (Loss)')\n",
    "    plt.grid(True)  # Show grid (optional)\n",
    "    plt.savefig('learning_curve.png')\n",
    "    plt.show()  # Display the plot\n",
    "\n",
    "    plt.figure(figsize=(10, 6))  # Set the size of the plot (optional)\n",
    "    plt.plot(error_list, marker='o', linestyle='-', color='b')\n",
    "    plt.xlabel('Index')\n",
    "    plt.ylabel('Error')\n",
    "    plt.title('Learning Curve (Error)')\n",
    "    plt.grid(True)  # Show grid (optional)\n",
    "    plt.savefig('error.png')\n",
    "    plt.show()  # Display the plot\n",
    "    \n",
    "    return loss_list, error_list"
   ]
  },
  {
   "cell_type": "markdown",
   "id": "248786d7-fb3c-4af8-8568-f4dd01c7bbed",
   "metadata": {},
   "source": [
    "### Data"
   ]
  },
  {
   "cell_type": "code",
   "execution_count": 176,
   "id": "27d31f7f-f3b8-451f-a1e7-90dd9b398354",
   "metadata": {},
   "outputs": [],
   "source": [
    "k = 10\n",
    "data = pd.read_csv(\"train.csv\")\n",
    "data = np.array(data)\n",
    "m, n = data.shape\n",
    "np.random.shuffle(data) # shuffle before splitting into dev and training sets\n",
    "\n",
    "data_dev = data[0:1000].T\n",
    "Y_dev = data_dev[0]\n",
    "Y_test = to_categorical(Y_dev, num_classes=k).astype(np.int32)\n",
    "X_dev = data_dev[1:n]\n",
    "X_dev = X_dev / 255.\n",
    "X_test = X_dev.T\n",
    "\n",
    "data_train = data[1000:m].T\n",
    "Y_train = data_train[0]\n",
    "Y_train = to_categorical(Y_train, num_classes=k).astype(np.int32)\n",
    "\n",
    "X_train = data_train[1:n]\n",
    "X_train = X_train / 255.\n",
    "_,m_train = X_train.shape\n",
    "X_train = X_train.T"
   ]
  },
  {
   "cell_type": "markdown",
   "id": "c252ce6e-cead-4144-9cac-904314e68cd4",
   "metadata": {},
   "source": [
    "# 4.2"
   ]
  },
  {
   "cell_type": "code",
   "execution_count": 178,
   "id": "f6c63248-8370-4db1-9900-7b9a2fc376bc",
   "metadata": {
    "collapsed": true,
    "jupyter": {
     "outputs_hidden": true
    }
   },
   "outputs": [
    {
     "name": "stderr",
     "output_type": "stream",
     "text": [
      "C:\\Users\\clandriola\\AppData\\Local\\Temp\\ipykernel_10556\\638843477.py:2: RuntimeWarning: overflow encountered in exp\n",
      "  return 1 / (1 + np.exp(-x))\n",
      "C:\\Users\\clandriola\\AppData\\Local\\Temp\\ipykernel_10556\\638843477.py:32: DeprecationWarning: The truth value of an empty array is ambiguous. Returning False, but in future this will result in an error. Use `array.size > 0` to check that an array is not empty.\n",
      "  if index == index2:\n"
     ]
    },
    {
     "name": "stdout",
     "output_type": "stream",
     "text": [
      "Epoch: 0, Loss: 22.960075464831043, Error: 0.727, Accuracy: 0.273\n",
      "Epoch: 10, Loss: 9.40733495518963, Error: 0.4, Accuracy: 0.6\n",
      "Epoch: 20, Loss: 6.5727678179240225, Error: 0.31999999999999995, Accuracy: 0.68\n",
      "Epoch: 30, Loss: 6.085271333079694, Error: 0.256, Accuracy: 0.744\n",
      "Epoch: 40, Loss: 5.38983995495737, Error: 0.29300000000000004, Accuracy: 0.707\n",
      "Epoch: 50, Loss: 4.790519242372381, Error: 0.21899999999999997, Accuracy: 0.781\n",
      "Epoch: 60, Loss: 4.763048218998166, Error: 0.33599999999999997, Accuracy: 0.664\n",
      "Epoch: 70, Loss: 4.0320882955307535, Error: 0.20199999999999996, Accuracy: 0.798\n",
      "Epoch: 80, Loss: 4.107205903681207, Error: 0.21799999999999997, Accuracy: 0.782\n",
      "Epoch: 90, Loss: 3.8160664469876777, Error: 0.20599999999999996, Accuracy: 0.794\n",
      "Epoch: 100, Loss: 4.021375784424415, Error: 0.19899999999999995, Accuracy: 0.801\n",
      "Epoch: 110, Loss: 3.4366599057485, Error: 0.20399999999999996, Accuracy: 0.796\n",
      "Epoch: 120, Loss: 3.6153292845432183, Error: 0.239, Accuracy: 0.761\n",
      "Epoch: 130, Loss: 3.601812081058166, Error: 0.18100000000000005, Accuracy: 0.819\n",
      "Epoch: 140, Loss: 2.9954965640178766, Error: 0.17900000000000005, Accuracy: 0.821\n",
      "Epoch: 150, Loss: 3.250019582380639, Error: 0.20699999999999996, Accuracy: 0.793\n",
      "Epoch: 160, Loss: 3.318746156475754, Error: 0.20999999999999996, Accuracy: 0.79\n",
      "Epoch: 170, Loss: 2.709420191413103, Error: 0.18899999999999995, Accuracy: 0.811\n",
      "Epoch: 180, Loss: 2.7112427778080592, Error: 0.19499999999999995, Accuracy: 0.805\n",
      "Epoch: 190, Loss: 2.68976060388608, Error: 0.16800000000000004, Accuracy: 0.832\n",
      "Epoch: 200, Loss: 2.5711787721804935, Error: 0.19899999999999995, Accuracy: 0.801\n",
      "Epoch: 210, Loss: 2.4871856070245264, Error: 0.18799999999999994, Accuracy: 0.812\n",
      "Epoch: 220, Loss: 2.2858525646361665, Error: 0.16800000000000004, Accuracy: 0.832\n",
      "Epoch: 230, Loss: 2.2707326656150304, Error: 0.16400000000000003, Accuracy: 0.836\n",
      "Epoch: 240, Loss: 2.1955413649372546, Error: 0.22999999999999998, Accuracy: 0.77\n",
      "Epoch: 250, Loss: 2.2055801567899427, Error: 0.18000000000000005, Accuracy: 0.82\n",
      "Epoch: 260, Loss: 2.1247660095015553, Error: 0.16700000000000004, Accuracy: 0.833\n",
      "Epoch: 270, Loss: 2.272899166517154, Error: 0.19999999999999996, Accuracy: 0.8\n",
      "Epoch: 280, Loss: 2.1533820445419307, Error: 0.16500000000000004, Accuracy: 0.835\n",
      "Epoch: 290, Loss: 2.3371698775024794, Error: 0.18000000000000005, Accuracy: 0.82\n",
      "Epoch: 300, Loss: 2.024624934802864, Error: 0.17800000000000005, Accuracy: 0.822\n",
      "Epoch: 310, Loss: 2.2105979662813495, Error: 0.15100000000000002, Accuracy: 0.849\n",
      "Epoch: 320, Loss: 2.0657056612396265, Error: 0.17200000000000004, Accuracy: 0.828\n",
      "Epoch: 330, Loss: 1.9015475354148486, Error: 0.16800000000000004, Accuracy: 0.832\n",
      "Epoch: 340, Loss: 1.9112533035524315, Error: 0.14600000000000002, Accuracy: 0.854\n",
      "Epoch: 350, Loss: 2.059644240670358, Error: 0.15800000000000003, Accuracy: 0.842\n",
      "Epoch: 360, Loss: 2.016072859535826, Error: 0.14500000000000002, Accuracy: 0.855\n",
      "Epoch: 370, Loss: 1.8114500511381404, Error: 0.16400000000000003, Accuracy: 0.836\n",
      "Epoch: 380, Loss: 1.7479851583118553, Error: 0.15500000000000003, Accuracy: 0.845\n",
      "Epoch: 390, Loss: 1.807342636015201, Error: 0.15400000000000003, Accuracy: 0.846\n",
      "Epoch: 400, Loss: 1.7659320504328189, Error: 0.14800000000000002, Accuracy: 0.852\n",
      "Epoch: 410, Loss: 1.8718976535913978, Error: 0.15900000000000003, Accuracy: 0.841\n",
      "Epoch: 420, Loss: 1.6415037040462905, Error: 0.16400000000000003, Accuracy: 0.836\n",
      "Epoch: 430, Loss: 1.5963702067773706, Error: 0.17400000000000004, Accuracy: 0.826\n",
      "Epoch: 440, Loss: 1.632789136580182, Error: 0.19299999999999995, Accuracy: 0.807\n",
      "Epoch: 450, Loss: 1.7459149432522563, Error: 0.16900000000000004, Accuracy: 0.831\n",
      "Epoch: 460, Loss: 1.7709487145422664, Error: 0.15300000000000002, Accuracy: 0.847\n",
      "Epoch: 470, Loss: 1.7877326226761805, Error: 0.15100000000000002, Accuracy: 0.849\n",
      "Epoch: 480, Loss: 1.701540189880847, Error: 0.17500000000000004, Accuracy: 0.825\n",
      "Epoch: 490, Loss: 1.614594931096533, Error: 0.16900000000000004, Accuracy: 0.831\n",
      "Epoch: 500, Loss: 1.5616239717566862, Error: 0.14500000000000002, Accuracy: 0.855\n",
      "Epoch: 510, Loss: 1.548851217370241, Error: 0.14, Accuracy: 0.86\n",
      "Epoch: 520, Loss: 1.575996207048966, Error: 0.14800000000000002, Accuracy: 0.852\n",
      "Epoch: 530, Loss: 1.5309424882251634, Error: 0.14900000000000002, Accuracy: 0.851\n",
      "Epoch: 540, Loss: 1.5378030490324672, Error: 0.16300000000000003, Accuracy: 0.837\n",
      "Epoch: 550, Loss: 1.5856104609460222, Error: 0.14700000000000002, Accuracy: 0.853\n",
      "Epoch: 560, Loss: 1.4620494030953086, Error: 0.14700000000000002, Accuracy: 0.853\n",
      "Epoch: 570, Loss: 1.583506859073343, Error: 0.18400000000000005, Accuracy: 0.816\n",
      "Epoch: 580, Loss: 1.534063983096268, Error: 0.17100000000000004, Accuracy: 0.829\n",
      "Epoch: 590, Loss: 1.4603974462204534, Error: 0.15500000000000003, Accuracy: 0.845\n",
      "Epoch: 600, Loss: 1.442431866120327, Error: 0.16200000000000003, Accuracy: 0.838\n",
      "Epoch: 610, Loss: 1.3464669786848782, Error: 0.121, Accuracy: 0.879\n",
      "Epoch: 620, Loss: 1.5038180367761786, Error: 0.19199999999999995, Accuracy: 0.808\n",
      "Epoch: 630, Loss: 1.435253271808852, Error: 0.14900000000000002, Accuracy: 0.851\n",
      "Epoch: 640, Loss: 1.3866067764208374, Error: 0.16500000000000004, Accuracy: 0.835\n",
      "Epoch: 650, Loss: 1.3266309221819217, Error: 0.16500000000000004, Accuracy: 0.835\n",
      "Epoch: 660, Loss: 1.3672432884276198, Error: 0.16300000000000003, Accuracy: 0.837\n",
      "Epoch: 670, Loss: 1.3509339422245354, Error: 0.15000000000000002, Accuracy: 0.85\n",
      "Epoch: 680, Loss: 1.4143932834612287, Error: 0.14100000000000001, Accuracy: 0.859\n",
      "Epoch: 690, Loss: 1.4628823435141594, Error: 0.15000000000000002, Accuracy: 0.85\n",
      "Epoch: 700, Loss: 1.4234097631391367, Error: 0.15200000000000002, Accuracy: 0.848\n",
      "Epoch: 710, Loss: 1.333988660047075, Error: 0.136, Accuracy: 0.864\n",
      "Epoch: 720, Loss: 1.2421567939722027, Error: 0.14300000000000002, Accuracy: 0.857\n",
      "Epoch: 730, Loss: 1.292332962605546, Error: 0.11599999999999999, Accuracy: 0.884\n",
      "Epoch: 740, Loss: 1.2997162397870057, Error: 0.14100000000000001, Accuracy: 0.859\n",
      "Epoch: 750, Loss: 1.3789437864381127, Error: 0.134, Accuracy: 0.866\n",
      "Epoch: 760, Loss: 1.3530264558240486, Error: 0.15600000000000003, Accuracy: 0.844\n",
      "Epoch: 770, Loss: 1.2768822438072729, Error: 0.129, Accuracy: 0.871\n",
      "Epoch: 780, Loss: 1.2647352820337445, Error: 0.128, Accuracy: 0.872\n",
      "Epoch: 790, Loss: 1.250323853510594, Error: 0.138, Accuracy: 0.862\n",
      "Epoch: 800, Loss: 1.3146243622255058, Error: 0.135, Accuracy: 0.865\n",
      "Epoch: 810, Loss: 1.3439657792632398, Error: 0.14400000000000002, Accuracy: 0.856\n",
      "Epoch: 820, Loss: 1.2059290648879732, Error: 0.125, Accuracy: 0.875\n",
      "Epoch: 830, Loss: 1.2535297169255046, Error: 0.14100000000000001, Accuracy: 0.859\n",
      "Epoch: 840, Loss: 1.2266991918030616, Error: 0.126, Accuracy: 0.874\n",
      "Epoch: 850, Loss: 1.2525148423149886, Error: 0.15100000000000002, Accuracy: 0.849\n",
      "Epoch: 860, Loss: 1.2177390454821475, Error: 0.134, Accuracy: 0.866\n",
      "Epoch: 870, Loss: 1.1931250514770002, Error: 0.132, Accuracy: 0.868\n",
      "Epoch: 880, Loss: 1.4019724010949528, Error: 0.15300000000000002, Accuracy: 0.847\n",
      "Epoch: 890, Loss: 1.3147931394344101, Error: 0.14400000000000002, Accuracy: 0.856\n",
      "Epoch: 900, Loss: 1.3287617679374668, Error: 0.137, Accuracy: 0.863\n",
      "Epoch: 910, Loss: 1.3116081263261699, Error: 0.127, Accuracy: 0.873\n",
      "Epoch: 920, Loss: 1.2356550835474565, Error: 0.123, Accuracy: 0.877\n",
      "Epoch: 930, Loss: 1.208320227279265, Error: 0.132, Accuracy: 0.868\n",
      "Epoch: 940, Loss: 1.2904250031189397, Error: 0.14500000000000002, Accuracy: 0.855\n",
      "Epoch: 950, Loss: 1.2990759799599119, Error: 0.124, Accuracy: 0.876\n",
      "Epoch: 960, Loss: 1.18048812406057, Error: 0.138, Accuracy: 0.862\n",
      "Epoch: 970, Loss: 1.2979877378626257, Error: 0.128, Accuracy: 0.872\n",
      "Epoch: 980, Loss: 1.212004822717932, Error: 0.14, Accuracy: 0.86\n",
      "Epoch: 990, Loss: 1.1167824938284392, Error: 0.128, Accuracy: 0.872\n"
     ]
    },
    {
     "data": {
      "image/png": "[encoded data removed]",
      "text/plain": [
       "<Figure size 1000x600 with 1 Axes>"
      ]
     },
     "metadata": {},
     "output_type": "display_data"
    },
    {
     "data": {
      "image/png": "[encoded data removed]",
      "text/plain": [
       "<Figure size 1000x600 with 1 Axes>"
      ]
     },
     "metadata": {},
     "output_type": "display_data"
    }
   ],
   "source": [
    "lr = 0.5\n",
    "d1 = 300\n",
    "batch_size = 64 #X_train.shape[0] # 1 is SGD/ 60000 is Full GD\n",
    "epochs = 1000\n",
    "random = 1\n",
    "loss_list_4_4, accuracy_list_4_4 = model_nn(lr, k, d1, batch_size, X_train, Y_train, epochs, X_test, Y_test, random)"
   ]
  },
  {
   "cell_type": "markdown",
   "id": "787742fc-4912-46d6-a622-e68fccfc0f1d",
   "metadata": {},
   "source": [
    "# 4.3"
   ]
  },
  {
   "cell_type": "code",
   "execution_count": 161,
   "id": "0e8b494a-5d07-424b-b4bf-36e1d96edd09",
   "metadata": {},
   "outputs": [
    {
     "name": "stdout",
     "output_type": "stream",
     "text": [
      "Loss after each iteration: [2.835593716190042, 2.4103815540147115, 1.9606860930532748, 1.1610376021717652, 0.9644289408410959, 0.9149161802851454, 0.8755222246480788, 0.8089621368790888, 0.7949262658649301, 0.7798047435730352, 0.7557813828815895, 0.7213839666576743, 0.6749974075389038, 0.628944507916068, 0.6120845826664951, 0.6034769313873233, 0.5762951584030623, 0.5482061272601154, 0.5320020391862513, 0.5186430986681078, 0.5115112870655625, 0.4885605717065937, 0.46451645576381845, 0.43724862438763396, 0.4118543497232719, 0.3981815799014543, 0.3772403621467807, 0.37091862253686314, 0.35590251406376006, 0.3479783467455921, 0.33414288687498583, 0.3290867247997753, 0.3203341627278411, 0.31342844359355476, 0.3148796152593173, 0.3022575664321788, 0.2968157531059424, 0.2847904375386546, 0.28285529504511114, 0.2727692598826984, 0.2691953567981568, 0.26542711941720337, 0.2683259251615, 0.25777479375622636, 0.2504393658233515, 0.24407575200038392, 0.2374676409316023, 0.2340005536129932, 0.23181894477240642, 0.2305247227259594, 0.22471152901715918, 0.22562811198943009, 0.2208194847516007, 0.2148199478779215, 0.21615060817923998, 0.20710202713281597, 0.20869147193064183, 0.20037530663373013, 0.19992739588714592, 0.1999078371871319, 0.19456209657304463, 0.19516798781336633, 0.190089712020398, 0.1878562668087427, 0.17933430458257374, 0.18077622083373, 0.17546655050614327, 0.17081162513134715, 0.17460698800122978, 0.18117012487006448, 0.17349819184263202, 0.16586254999210295, 0.1676296140897013, 0.16119155138647334, 0.16385420589280308, 0.1687343421321382, 0.16165938000304506, 0.1641139992688053, 0.15976924158795217, 0.16000114098180043, 0.1601636024695173, 0.15194600924569238, 0.15730334525489872, 0.15457486734590192, 0.14944897584385636, 0.15437841547937758, 0.14886381386003616, 0.14478795468959435, 0.14802919828741973, 0.1506452961383472, 0.14323991667799685, 0.14174783563991994, 0.14226676253427664, 0.1396079598539959, 0.13278419425980909, 0.13674629898972818, 0.14147667106462175, 0.14564672866895922, 0.13450507579364146, 0.1315483212655624, 0.13457272859552766, 0.12904582308749785, 0.12558441736266882, 0.1299461516778126, 0.12989499683719608, 0.11811462270767994, 0.12317635305847167, 0.1232499241881073, 0.11880891523139887, 0.12586099407984444, 0.12012034307799138, 0.125967964839028, 0.12526593093173016, 0.12180969807577782, 0.12221485051343778, 0.11546649506542643, 0.11605214764799038, 0.11351135822897682, 0.11422317442891787, 0.10905374192720606, 0.11021618287839227, 0.11352019080069559, 0.10417277481684586, 0.10163222254067597, 0.0994146152233529, 0.10058613206798118, 0.09704121737388408, 0.09876333372135027, 0.10561644195716717, 0.10242207872216659, 0.10549035390627537, 0.10501252955175407, 0.10292443388874874, 0.09674476804554673, 0.09759694130096794, 0.0891471285189712, 0.08908751619058358, 0.09623000298964801, 0.09558822075663821, 0.11463797142163663, 0.10811876365839865, 0.1002452284942261, 0.09869452697710754, 0.09604880127406572, 0.09106447892380716, 0.08478056017584476, 0.08337439137550667, 0.09036097709453492, 0.08429861615970292, 0.08483947896655403, 0.0830077900623772, 0.09866917574052718, 0.09428266735261252, 0.09028219093186901, 0.0929397427540923, 0.08903056136888812, 0.09107820141944879, 0.09514225820853002, 0.08622750273300603, 0.08233875299231973, 0.0797166309726316, 0.07871469426159361, 0.0805270636285781, 0.07418393428691426, 0.07227764931794939, 0.07154334299816464, 0.09093321814345348, 0.10054921324291194, 0.11535447620397714, 0.1001032692199714, 0.12310564402568602, 0.12213258343022074, 0.11041829602921956, 0.10376464276264807, 0.0896519730618, 0.09159086934648435, 0.08366422821253856]\n"
     ]
    }
   ],
   "source": [
    "from sklearn.neural_network import MLPClassifier\n",
    "import numpy as np\n",
    "\n",
    "# Create and train the MLPClassifier\n",
    "model = MLPClassifier(hidden_layer_sizes=(300,), max_iter=1000, random_state=42, activation='logistic',solver='sgd',batch_size = 64, learning_rate='constant', learning_rate_init=0.5)\n",
    "model.fit(X_train, Y_train)\n",
    "\n",
    "# Get the loss after each iteration\n",
    "loss_values = model.loss_curve_\n",
    "print(\"Loss after each iteration:\", loss_values)"
   ]
  },
  {
   "cell_type": "code",
   "execution_count": 181,
   "id": "d29b6b3c-1acc-4d45-bd93-928e0bee3fe4",
   "metadata": {},
   "outputs": [
    {
     "name": "stdout",
     "output_type": "stream",
     "text": [
      "Accuracy on test data: 0.93\n"
     ]
    }
   ],
   "source": [
    "from sklearn.metrics import accuracy_score\n",
    "predictions = model.predict(X_test)\n",
    "accuracy = accuracy_score(Y_test, predictions)\n",
    "print(\"Accuracy on test data:\", accuracy)"
   ]
  },
  {
   "cell_type": "code",
   "execution_count": 180,
   "id": "17f144ee-bf5b-4e27-9482-9ca32de1ecc6",
   "metadata": {},
   "outputs": [
    {
     "data": {
      "image/png": "[encoded data removed]",
      "text/plain": [
       "<Figure size 1000x600 with 1 Axes>"
      ]
     },
     "metadata": {},
     "output_type": "display_data"
    }
   ],
   "source": [
    "    plt.figure(figsize=(10, 6))  # Set the size of the plot (optional)\n",
    "    plt.plot(loss_values, marker='o', linestyle='-', color='b')\n",
    "    plt.xlabel('Index')\n",
    "    plt.ylabel('Loss')\n",
    "    plt.title('Learning Curve (Loss)')\n",
    "    plt.grid(True)  # Show grid (optional)\n",
    "    plt.savefig('error.png')\n",
    "    plt.show()  # Display the plot"
   ]
  },
  {
   "cell_type": "markdown",
   "id": "4771bfe8-3707-431f-97ed-ca63138a9230",
   "metadata": {},
   "source": [
    "# 4.4"
   ]
  },
  {
   "cell_type": "code",
   "execution_count": 182,
   "id": "29a061e5-881d-4a2b-8310-419cf5be3919",
   "metadata": {
    "collapsed": true,
    "jupyter": {
     "outputs_hidden": true
    }
   },
   "outputs": [
    {
     "name": "stderr",
     "output_type": "stream",
     "text": [
      "C:\\Users\\clandriola\\AppData\\Local\\Temp\\ipykernel_10556\\638843477.py:32: DeprecationWarning: The truth value of an empty array is ambiguous. Returning False, but in future this will result in an error. Use `array.size > 0` to check that an array is not empty.\n",
      "  if index == index2:\n"
     ]
    },
    {
     "name": "stdout",
     "output_type": "stream",
     "text": [
      "Epoch: 0, Loss: 2.3478947508298456, Error: 1.0, Accuracy: 0.0\n"
     ]
    },
    {
     "data": {
      "image/png": "[encoded data removed]",
      "text/plain": [
       "<Figure size 1000x600 with 1 Axes>"
      ]
     },
     "metadata": {},
     "output_type": "display_data"
    },
    {
     "data": {
      "image/png": "[encoded data removed]",
      "text/plain": [
       "<Figure size 1000x600 with 1 Axes>"
      ]
     },
     "metadata": {},
     "output_type": "display_data"
    }
   ],
   "source": [
    "lr = 0.5\n",
    "d1 = 300\n",
    "batch_size = 64 #X_train.shape[0] # 1 is SGD/ 60000 is Full GD\n",
    "epochs = 10\n",
    "random = 2\n",
    "loss_list44, error_list44 = model_nn(lr, k, d1, batch_size, X_train, Y_train, epochs, X_test, Y_test, random)"
   ]
  },
  {
   "cell_type": "code",
   "execution_count": 183,
   "id": "e25a3b91-bf77-4346-98fa-54c974716c8e",
   "metadata": {},
   "outputs": [
    {
     "data": {
      "image/png": "[encoded data removed]",
      "text/plain": [
       "<Figure size 1000x600 with 1 Axes>"
      ]
     },
     "metadata": {},
     "output_type": "display_data"
    },
    {
     "data": {
      "image/png": "[encoded data removed]",
      "text/plain": [
       "<Figure size 1000x600 with 1 Axes>"
      ]
     },
     "metadata": {},
     "output_type": "display_data"
    }
   ],
   "source": [
    "    plt.figure(figsize=(10, 6))  # Set the size of the plot (optional)\n",
    "    plt.plot(loss_list44[1:], marker='o', linestyle='-', color='b')\n",
    "    plt.xlabel('Index')\n",
    "    plt.ylabel('Loss')\n",
    "    plt.title('Learning Curve (Loss)')\n",
    "    plt.grid(True)  # Show grid (optional)\n",
    "    plt.savefig('learning_curve.png')\n",
    "    plt.show()  # Display the plot\n",
    "\n",
    "    plt.figure(figsize=(10, 6))  # Set the size of the plot (optional)\n",
    "    plt.plot(error_list44[1:], marker='o', linestyle='-', color='b')\n",
    "    plt.xlabel('Index')\n",
    "    plt.ylabel('Error')\n",
    "    plt.title('Learning Curve (Error)')\n",
    "    plt.grid(True)  # Show grid (optional)\n",
    "    plt.savefig('error.png')\n",
    "    plt.show()  # Display the plot"
   ]
  },
  {
   "cell_type": "code",
   "execution_count": null,
   "id": "611da1f8-60e6-403d-a52b-97d951e98c31",
   "metadata": {},
   "outputs": [],
   "source": []
  },
  {
   "cell_type": "code",
   "execution_count": null,
   "id": "b1a0a561-36c7-4175-aa5a-033c67c9e40e",
   "metadata": {},
   "outputs": [],
   "source": []
  },
  {
   "cell_type": "code",
   "execution_count": null,
   "id": "ccb56629-b7ee-4168-8ece-a24a670d6597",
   "metadata": {},
   "outputs": [],
   "source": []
  },
  {
   "cell_type": "code",
   "execution_count": null,
   "id": "ab9afa6b-580f-41e9-9459-17c60199ff4d",
   "metadata": {},
   "outputs": [],
   "source": []
  },
  {
   "cell_type": "code",
   "execution_count": null,
   "id": "ac135a79-db04-4990-9424-648d30e28530",
   "metadata": {},
   "outputs": [],
   "source": []
  },
  {
   "cell_type": "code",
   "execution_count": null,
   "id": "d6be8ddb-f11f-4eb8-83e3-47e1c4655feb",
   "metadata": {},
   "outputs": [],
   "source": []
  }
 ],
 "metadata": {
  "kernelspec": {
   "display_name": "Python 3 (ipykernel)",
   "language": "python",
   "name": "python3"
  },
  "language_info": {
   "codemirror_mode": {
    "name": "ipython",
    "version": 3
   },
   "file_extension": ".py",
   "mimetype": "text/x-python",
   "name": "python",
   "nbconvert_exporter": "python",
   "pygments_lexer": "ipython3",
   "version": "3.10.12"
  }
 },
 "nbformat": 4,
 "nbformat_minor": 5
}
